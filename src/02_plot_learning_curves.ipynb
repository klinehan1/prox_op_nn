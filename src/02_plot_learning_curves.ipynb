{
 "cells": [
  {
   "cell_type": "markdown",
   "id": "99694889-b342-455f-a60e-cc59e980ba81",
   "metadata": {},
   "source": [
    "#### Plot Learning Curves\n",
    "\n",
    "from saved data"
   ]
  },
  {
   "cell_type": "code",
   "execution_count": null,
   "id": "e3edf5e8-2c86-4de6-850a-e1497a2e045c",
   "metadata": {
    "tags": []
   },
   "outputs": [],
   "source": [
    "import numpy as np\n",
    "from matplotlib import pyplot as plt "
   ]
  },
  {
   "cell_type": "code",
   "execution_count": null,
   "id": "53847794-d972-4413-98b9-db63ca44b5b7",
   "metadata": {},
   "outputs": [],
   "source": []
  },
  {
   "cell_type": "code",
   "execution_count": null,
   "id": "1cb83bc0-5ca8-4b77-a76a-350aac6c29b9",
   "metadata": {
    "tags": []
   },
   "outputs": [],
   "source": [
    "#output_path = \"models/features/both/len_1000_2000/\"\n",
    "#output_path = \"models/vanilla/both/len_1000_2000/\"\n",
    "#plot_title = \"$N(0,1)$ and $U(0,1)$ Vectors, Lengths 1,000 - 2,000\"\n",
    "\n",
    "#output_path = \"models/features/both/len_1000_100000/\"\n",
    "#output_path = \"models/vanilla/both/len_1000_100000/\"\n",
    "#plot_title = \"$N(0,1)$ and $U(0,1)$ Vectors, Lengths 1,000 - 100,000\"\n",
    "\n",
    "#output_path = \"models/features/gaussian/len_1000_2000/\"\n",
    "#output_path = \"models/vanilla/gaussian/len_1000_2000/\"\n",
    "#plot_title = \"$N(0,1)$ Vectors, Lengths 1,000 - 2,000\"\n",
    "\n",
    "#output_path = \"models/features/gaussian/len_1000_100000/\"\n",
    "#output_path = \"models/vanilla/gaussian/len_1000_100000/\"\n",
    "#plot_title = \"$N(0,1)$ Vectors, Lengths 1,000 - 100,000\"\n",
    "\n",
    "#output_path = \"models/features/uniform_0_1/len_1000_2000/\"\n",
    "#output_path = \"models/vanilla/uniform_0_1/len_1000_2000/\"\n",
    "#plot_title = \"$U(0,1)$ Vectors, Lengths 1,000 - 2,000\"\n",
    "\n",
    "#output_path = \"models/features/uniform_0_1/len_1000_100000/\"\n",
    "#output_path = \"models/vanilla/uniform_0_1/len_1000_100000/\"\n",
    "#plot_title = \"$U(0,1)$ Vectors, Lengths 1,000 - 100,000\"\n",
    "\n",
    "output_path = \"models/density/unif_0_10/len_1000_2000/\"\n",
    "plot_title = \"$U(0,10)$ Vectors, Lengths 1,000 - 2,000\"\n",
    "\n",
    "#output_path = \"models/density/unif_0_10/len_1000_100000/\"\n",
    "#plot_title = \"$U(0,10)$ Vectors, Lengths 1,000 - 100,000\"\n",
    "\n",
    "#output_path = \"models/density/unif_0_20/len_1000_2000/\"\n",
    "#plot_title = \"$U(0,20)$ Vectors, Lengths 1,000 - 2,000\"\n",
    "\n",
    "#output_path = \"models/density/unif_0_20/len_1000_100000/\"\n",
    "#plot_title = \"$U(0,20)$ Vectors, Lengths 1,000 - 100,000\""
   ]
  },
  {
   "cell_type": "code",
   "execution_count": null,
   "id": "3509381d-1d0e-4011-9e46-fd63d256f440",
   "metadata": {
    "tags": []
   },
   "outputs": [],
   "source": [
    "# input losses\n",
    "\n",
    "avg_loss_per_obs_train = np.load(output_path + 'train_avgloss.npy') \n",
    "avg_loss_per_obs_test = np.load(output_path + 'test_avgloss.npy')\n",
    "#avg_loss_per_obs_test_norm = np.load(output_path + 'test_norm_avgloss.npy')\n",
    "#avg_loss_per_obs_test_unif = np.load(output_path + 'test_unif_avgloss.npy')\n",
    "avg_loss_per_obs_test_og = np.load(output_path + 'test_og_avgloss.npy')"
   ]
  },
  {
   "cell_type": "code",
   "execution_count": null,
   "id": "adb64b61-8e8c-421b-a6f6-b16806feac0c",
   "metadata": {
    "tags": []
   },
   "outputs": [],
   "source": [
    "epochs = len(avg_loss_per_obs_test)\n",
    "epochs"
   ]
  },
  {
   "cell_type": "code",
   "execution_count": null,
   "id": "e6a844dc-ec4d-4794-83a9-39aafbc64175",
   "metadata": {
    "tags": []
   },
   "outputs": [],
   "source": [
    "# plot training and testing loss\n",
    "\n",
    "plt.figure(figsize=(18,6))\n",
    "plt.semilogy(range(1,epochs+1)[0:], avg_loss_per_obs_train[0:], linewidth=2, color='#192d48', label=\"a. Train ($\\\\widehat{\\\\tau}$)\", zorder=2)\n",
    "plt.semilogy(range(1,epochs+1)[0:], avg_loss_per_obs_test[0:], linewidth=2, color='#a1794a', label=\"b. Test ($\\\\widehat{\\\\tau}$)\", zorder=1)\n",
    "#plt.semilogy(range(1,epochs+1)[0:], avg_loss_per_obs_test_norm[0:], linewidth=2, color='#2b6f39', label=\"b$_1$. Test ($\\\\widehat{\\\\tau}$) - Gaussian\", zorder=4)\n",
    "#plt.semilogy(range(1,epochs+1)[0:], avg_loss_per_obs_test_unif[0:], linewidth=2, color='#d490c6', label=\"b$_2$. Test ($\\\\widehat{\\\\tau}$) - Uniform\", zorder=4)\n",
    "plt.semilogy(range(1,epochs+1)[0:], avg_loss_per_obs_test_og[0:], linewidth=2, color='#c3d9f3', label=\"c. Test ($\\\\tau$) \", zorder=3)\n",
    "\n",
    "plt.text(5050, np.min(avg_loss_per_obs_train), 'a', fontsize=20, color='#192d48')\n",
    "plt.text(5050, np.percentile(avg_loss_per_obs_test,85), 'b', fontsize=20, color='#a1794a')\n",
    "#plt.text(2025, np.percentile(avg_loss_per_obs_test_norm,60), 'b$_1$', fontsize=20, color='#2b6f39')\n",
    "#plt.text(2025, np.percentile(avg_loss_per_obs_test_unif,1), 'b$_2$', fontsize=20, color='#d490c6')\n",
    "plt.text(5050, np.percentile(avg_loss_per_obs_test_og,50), 'c', fontsize=20, color='#c3d9f3')\n",
    "\n",
    "plt.xlabel(\"Epoch\", fontsize=24)\n",
    "plt.ylabel(\"Average Loss (MSE)\", fontsize = 24)  # per batch avg\n",
    "plt.title(plot_title, fontsize = 22)\n",
    "plt.xticks(fontsize=24)\n",
    "plt.yticks(fontsize=24)\n",
    "plt.legend(fontsize=22, ncol=3) #, loc=\"lower left\", bbox_to_anchor=(-0.01,-0.03))\n",
    "plt.grid()\n",
    "plt.savefig(output_path + \"LC.eps\", bbox_inches='tight')"
   ]
  },
  {
   "cell_type": "code",
   "execution_count": null,
   "id": "1c64d00f-0ca8-42d0-a12f-af74859a3601",
   "metadata": {},
   "outputs": [],
   "source": []
  },
  {
   "cell_type": "code",
   "execution_count": null,
   "id": "e8b5e0a7-b856-4c95-851a-5241c49395b8",
   "metadata": {},
   "outputs": [],
   "source": []
  }
 ],
 "metadata": {
  "kernelspec": {
   "display_name": "PyTorch 1.12.0",
   "language": "python",
   "name": "pytorch-1.12.0"
  },
  "language_info": {
   "codemirror_mode": {
    "name": "ipython",
    "version": 3
   },
   "file_extension": ".py",
   "mimetype": "text/x-python",
   "name": "python",
   "nbconvert_exporter": "python",
   "pygments_lexer": "ipython3",
   "version": "3.9.13"
  }
 },
 "nbformat": 4,
 "nbformat_minor": 5
}
