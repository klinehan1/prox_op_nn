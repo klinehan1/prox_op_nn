{
 "cells": [
  {
   "cell_type": "markdown",
   "metadata": {},
   "source": [
    "#### NN Analysis - calculations on saved models (run on CPU)\n",
    "\n",
    "- Saliency\n",
    "- proximal operator error\n",
    "- objective function error"
   ]
  },
  {
   "cell_type": "code",
   "execution_count": null,
   "metadata": {},
   "outputs": [],
   "source": []
  },
  {
   "cell_type": "markdown",
   "metadata": {},
   "source": [
    "#### System Set-Up"
   ]
  },
  {
   "cell_type": "code",
   "execution_count": null,
   "metadata": {},
   "outputs": [],
   "source": [
    "import numpy as np\n",
    "from matplotlib import pyplot as plt \n",
    "import time as time\n",
    "import sys\n",
    "import platform\n",
    "import psutil\n",
    "\n",
    "import torch\n",
    "from torch import nn\n",
    "from torch.utils.data import Dataset, DataLoader, Subset\n",
    "\n",
    "from captum.attr import Saliency\n",
    "\n",
    "from sklearn.model_selection import train_test_split\n",
    "\n",
    "sys.path.append('..')\n",
    "\n",
    "from prox_op import prox_op\n",
    "from data_fcns import generate_raw_data\n",
    "from data_fcns import vanilla_scaling\n",
    "from data_fcns import compute_features"
   ]
  },
  {
   "cell_type": "code",
   "execution_count": null,
   "metadata": {},
   "outputs": [],
   "source": [
    "# python version\n",
    "\n",
    "print(sys.version)"
   ]
  },
  {
   "cell_type": "code",
   "execution_count": null,
   "metadata": {},
   "outputs": [],
   "source": [
    "# get CPU info\n",
    "\n",
    "print(platform.processor())\n",
    "print(platform.machine())\n",
    "print(platform.version())\n",
    "print(platform.platform())\n",
    "print(platform.uname())\n",
    "print(platform.system())\n",
    "print(str(round(psutil.virtual_memory().total / (1024.0 **3)))+\" GB\")\n"
   ]
  },
  {
   "cell_type": "code",
   "execution_count": null,
   "metadata": {},
   "outputs": [],
   "source": [
    "# get GPU info\n",
    "\n",
    "print(torch.cuda.is_available())\n",
    "\n",
    "if torch.cuda.is_available():\n",
    "    print(torch.cuda.device_count())\n",
    "    print(torch.cuda.current_device())\n",
    "    print(torch.cuda.device(0))\n",
    "    print(torch.cuda.get_device_name(0))"
   ]
  },
  {
   "cell_type": "code",
   "execution_count": null,
   "metadata": {},
   "outputs": [],
   "source": []
  },
  {
   "cell_type": "markdown",
   "metadata": {},
   "source": [
    "#### Data Prep"
   ]
  },
  {
   "cell_type": "code",
   "execution_count": null,
   "metadata": {},
   "outputs": [],
   "source": [
    "nn_type = \"feature\"  # vanilla or feature\n",
    "data_dist = \"norm\"   # norm, unif, or both\n",
    "unif_min = 0\n",
    "unif_max = 20\n",
    "min_len = 1000\n",
    "max_len = 2000\n",
    "num_vec = 10000\n",
    "seed = 1\n",
    "\n",
    "output_path = \"models/features/gaussian/len_1000_2000/\"\n",
    "plot_title = \"$N(0,1)$ Vectors, Lengths 1,000 - 2,000\"\n",
    "\n",
    "#output_path = \"models/features/gaussian/len_1000_100000/\"\n",
    "#plot_title = \"$N(0,1)$ Vectors, Lengths 1,000 - 100,000\"\n",
    "\n",
    "#output_path = \"models/features/uniform_0_1/len_1000_2000/\"\n",
    "#plot_title = \"$U(0,1)$ Vectors, Lengths 1,000 - 2,000\"\n",
    "\n",
    "#output_path = \"models/features/uniform_0_1/len_1000_100000/\"\n",
    "#plot_title = \"$U(0,1)$ Vectors, Lengths 1,000 - 100,000\"\n",
    "\n",
    "#output_path = \"models/features/both/len_1000_2000/\"\n",
    "#plot_title = \"$N(0,1)$ and $U(0,1)$ Vectors, Lengths 1,000 - 2,000\"\n",
    "\n",
    "#output_path = \"models/features/both/len_1000_100000/\"\n",
    "#plot_title = \"$N(0,1)$ and $U(0,1)$ Vectors, Lengths 1,000 - 100,000\"\n",
    "\n",
    "#output_path = \"models/density/unif_0_10/len_1000_2000/\"\n",
    "#plot_title = \"$U(0,10)$ Vectors, Lengths 1,000 - 2,000\"\n",
    "\n",
    "#output_path = \"models/density/unif_0_10/len_1000_100000/\"\n",
    "#plot_title = \"$U(0,10)$ Vectors, Lengths 1,000 - 100,000\"\n",
    "\n",
    "#output_path = \"models/density/unif_0_20/len_1000_2000/\"\n",
    "#plot_title = \"$U(0,20)$ Vectors, Lengths 1,000 - 2,000\"\n",
    "\n",
    "#output_path = \"models/density/unif_0_20/len_1000_100000/\"\n",
    "#plot_title = \"$U(0,20)$ Vectors, Lengths 1,000 - 100,000\"\n",
    "\n",
    "X, lengths, alphas, taus = generate_raw_data(data_dist, min_len, max_len, num_vec, unif_min, unif_max, seed)"
   ]
  },
  {
   "cell_type": "code",
   "execution_count": null,
   "metadata": {},
   "outputs": [],
   "source": [
    "if nn_type == \"vanilla\":\n",
    "\n",
    "    num_moments = 0 # needed for the NN selection cell\n",
    "    M, yhat, zero_idx = vanilla_scaling(X, lengths, alphas, taus)\n",
    "    \n",
    "else:  # features NN\n",
    "    num_moments = 10\n",
    "    M, yhat, mus, zero_idx = compute_features(X, lengths, alphas, taus, num_moments)\n"
   ]
  },
  {
   "cell_type": "code",
   "execution_count": null,
   "metadata": {},
   "outputs": [],
   "source": [
    "# remove any observations from dataset that have tau = 0 \n",
    "\n",
    "if sum(zero_idx) > 0:\n",
    "    M = M[~zero_idx,:]\n",
    "    yhat = yhat[~zero_idx]\n",
    "    mus = mus[~zero_idx]\n",
    "    alphas = alphas[~zero_idx]\n",
    "    taus = taus[~zero_idx]\n",
    "    \n",
    "\n",
    "if data_dist == \"norm\":\n",
    "    num_norm_vec = M.shape[0]\n",
    "elif data_dist == \"unif\":  \n",
    "    num_norm_vec = 0\n",
    "else: # both\n",
    "    num_norm_vec = int(num_vec/2) - sum(np.where(zero_idx)[0] < int(num_vec/2))\n",
    "    \n",
    "print(num_norm_vec)"
   ]
  },
  {
   "cell_type": "code",
   "execution_count": null,
   "metadata": {},
   "outputs": [],
   "source": []
  },
  {
   "cell_type": "code",
   "execution_count": null,
   "metadata": {},
   "outputs": [],
   "source": []
  },
  {
   "cell_type": "markdown",
   "metadata": {},
   "source": [
    "#### Train/Test Data Prep"
   ]
  },
  {
   "cell_type": "code",
   "execution_count": null,
   "metadata": {},
   "outputs": [],
   "source": [
    "np.random.seed(0)\n",
    "torch.manual_seed(0)"
   ]
  },
  {
   "cell_type": "code",
   "execution_count": null,
   "metadata": {},
   "outputs": [],
   "source": [
    "class TauDataset(Dataset):\n",
    "    def __init__(self, X, y, num_norm_vec):\n",
    "        \n",
    "        d = np.zeros(len(y))\n",
    "        d[:num_norm_vec] = 1  # Gaussian - 1, Uniform - 0\n",
    "          \n",
    "        self.features = torch.Tensor(X)\n",
    "        self.labels = torch.Tensor(y) \n",
    "        self.dist = torch.Tensor(d)\n",
    "\n",
    "    def __len__(self):\n",
    "        return len(self.labels)\n",
    "\n",
    "    def __getitem__(self, idx):\n",
    "        return self.features[idx,:], self.labels[idx], self.dist[idx], idx"
   ]
  },
  {
   "cell_type": "code",
   "execution_count": null,
   "metadata": {},
   "outputs": [],
   "source": [
    "# create dataset\n",
    "dataset = TauDataset(M,yhat,num_norm_vec)\n",
    "\n",
    "print(dataset[0])\n",
    "print(len(dataset))"
   ]
  },
  {
   "cell_type": "code",
   "execution_count": null,
   "metadata": {},
   "outputs": [],
   "source": []
  },
  {
   "cell_type": "code",
   "execution_count": null,
   "metadata": {},
   "outputs": [],
   "source": [
    "if data_dist == \"both\":\n",
    "\n",
    "    # train-test split: 80-20, stratified sampling on distribution type\n",
    "    # Gaussian: 1st half of indices, Uniform: 2nd half of indices \n",
    "\n",
    "    train_idx, test_idx = train_test_split(range(len(dataset)), test_size=0.20, random_state=0, \n",
    "                                       shuffle=True, stratify=dataset.dist)\n",
    "    \n",
    "else: # unif or norm data\n",
    "    \n",
    "    # train-test split: 80-20\n",
    "    train_idx, test_idx = train_test_split(range(len(dataset)), test_size=0.20, random_state=0, shuffle=True)\n"
   ]
  },
  {
   "cell_type": "code",
   "execution_count": null,
   "metadata": {},
   "outputs": [],
   "source": [
    "sum(dataset.dist[train_idx])"
   ]
  },
  {
   "cell_type": "code",
   "execution_count": null,
   "metadata": {},
   "outputs": [],
   "source": [
    "sum(dataset.dist[test_idx])"
   ]
  },
  {
   "cell_type": "code",
   "execution_count": null,
   "metadata": {},
   "outputs": [],
   "source": [
    "train_data = Subset(dataset, train_idx)\n",
    "test_data = Subset(dataset, test_idx)"
   ]
  },
  {
   "cell_type": "code",
   "execution_count": null,
   "metadata": {},
   "outputs": [],
   "source": [
    "# set up dataset iterator\n",
    "\n",
    "train_batch_size = 32\n",
    "test_batch_size = len(test_data)\n",
    "\n",
    "train_loader = DataLoader(dataset=train_data, batch_size=train_batch_size, shuffle=True) \n",
    "test_loader = DataLoader(dataset=test_data, batch_size=test_batch_size, shuffle=True)\n"
   ]
  },
  {
   "cell_type": "code",
   "execution_count": null,
   "metadata": {},
   "outputs": [],
   "source": [
    "print(len(train_loader))\n",
    "print(len(test_loader))"
   ]
  },
  {
   "cell_type": "code",
   "execution_count": null,
   "metadata": {},
   "outputs": [],
   "source": []
  },
  {
   "cell_type": "code",
   "execution_count": null,
   "metadata": {},
   "outputs": [],
   "source": []
  },
  {
   "cell_type": "markdown",
   "metadata": {},
   "source": [
    "#### Load NN"
   ]
  },
  {
   "cell_type": "code",
   "execution_count": null,
   "metadata": {},
   "outputs": [],
   "source": [
    "# first layer number of inputs\n",
    "print(dataset[0][0].size())\n",
    "layer1_size = M[0].shape[0]\n",
    "layer1_size"
   ]
  },
  {
   "cell_type": "code",
   "execution_count": null,
   "metadata": {
    "tags": []
   },
   "outputs": [],
   "source": [
    "device = \"cpu\""
   ]
  },
  {
   "cell_type": "code",
   "execution_count": null,
   "metadata": {},
   "outputs": [],
   "source": [
    "# set NN based on layer1_size\n",
    "\n",
    "if layer1_size == (num_moments+3):  # features NN\n",
    "    \n",
    "    class NeuralNetwork(nn.Module):\n",
    "        def __init__(self):\n",
    "            super().__init__()\n",
    "            self.linear_relu_stack = nn.Sequential(\n",
    "                nn.Linear(num_moments+3, 25),  \n",
    "                nn.ReLU(),    \n",
    "                nn.Linear(25, 10),\n",
    "                nn.ReLU(),\n",
    "                nn.Linear(10, 1)\n",
    "            )\n",
    "\n",
    "        def forward(self, x):\n",
    "            tau = self.linear_relu_stack(x) \n",
    "            return tau\n",
    "        \n",
    "elif (layer1_size == 2000) or (layer1_size == 100000):   # vanilla NN\n",
    "    \n",
    "    class NeuralNetwork(nn.Module):\n",
    "        def __init__(self):\n",
    "            super().__init__()\n",
    "            self.linear_relu_stack = nn.Sequential( \n",
    "                nn.Linear(layer1_size, 200),   \n",
    "                nn.ReLU(),  \n",
    "                nn.Linear(200, 100),\n",
    "                nn.ReLU(),\n",
    "                nn.Linear(100, 50), \n",
    "                nn.ReLU(),\n",
    "                nn.Linear(50, 1) \n",
    "            )\n",
    "\n",
    "        def forward(self, x):\n",
    "            tau = self.linear_relu_stack(x)\n",
    "            return tau\n",
    "    \n",
    "else:\n",
    "    pass\n",
    "\n",
    "model = NeuralNetwork().to(device)\n",
    "print(model)"
   ]
  },
  {
   "cell_type": "code",
   "execution_count": null,
   "metadata": {},
   "outputs": [],
   "source": [
    "# load model\n",
    "\n",
    "model = NeuralNetwork()\n",
    "model.load_state_dict(torch.load(\"models/features/gaussian/len_1000_2000/epoch_4421_nn.pt\"))\n",
    "#model.load_state_dict(torch.load(\"models/features/gaussian/len_1000_100000/epoch_4695_nn.pt\"))\n",
    "#model.load_state_dict(torch.load(\"models/features/uniform_0_1/len_1000_2000/epoch_4897_nn.pt\"))\n",
    "#model.load_state_dict(torch.load(\"models/features/uniform_0_1/len_1000_100000/epoch_4928_nn.pt\"))\n",
    "#model.load_state_dict(torch.load(\"models/features/both/len_1000_2000/epoch_4570_nn.pt\"))\n",
    "#model.load_state_dict(torch.load(\"models/features/both/len_1000_100000/epoch_4792_nn.pt\"))\n",
    "\n",
    "# density models\n",
    "#model.load_state_dict(torch.load(\"models/density/unif_0_10/len_1000_2000/epoch_3788_nn.pt\"))\n",
    "#model.load_state_dict(torch.load(\"models/density/unif_0_10/len_1000_100000/epoch_4390_nn.pt\"))\n",
    "#model.load_state_dict(torch.load(\"models/density/unif_0_20/len_1000_100000/epoch_3779_nn.pt\"))\n",
    "#model.load_state_dict(torch.load(\"models/density/unif_0_20/len_1000_2000/epoch_4551_nn.pt\"))\n",
    "\n",
    "model.eval()"
   ]
  },
  {
   "cell_type": "code",
   "execution_count": null,
   "metadata": {},
   "outputs": [],
   "source": []
  },
  {
   "cell_type": "code",
   "execution_count": null,
   "metadata": {},
   "outputs": [],
   "source": []
  },
  {
   "cell_type": "markdown",
   "metadata": {},
   "source": [
    "#### NN Interpretability - Feature Importance using saliency"
   ]
  },
  {
   "cell_type": "code",
   "execution_count": null,
   "metadata": {},
   "outputs": [],
   "source": [
    "saliency = Saliency(model)"
   ]
  },
  {
   "cell_type": "code",
   "execution_count": null,
   "metadata": {},
   "outputs": [],
   "source": [
    "test_features = dataset.features[test_idx] \n",
    "test_features.requires_grad_()"
   ]
  },
  {
   "cell_type": "code",
   "execution_count": null,
   "metadata": {},
   "outputs": [],
   "source": [
    "attribution = saliency.attribute(test_features)\n",
    "print(attribution.shape)"
   ]
  },
  {
   "cell_type": "code",
   "execution_count": null,
   "metadata": {},
   "outputs": [],
   "source": [
    "attr = attribution.detach().numpy()\n",
    "\n",
    "print(type(attr))\n",
    "print(attr.shape)"
   ]
  },
  {
   "cell_type": "code",
   "execution_count": null,
   "metadata": {},
   "outputs": [],
   "source": [
    "# plot code - https://captum.ai/tutorials/Titanic_Basic_Interpret\n",
    "\n",
    "# Helper method to print importances and visualize distribution\n",
    "def visualize_importances(feature_names, importances, title=\"Average Feature Importances\", plot=True, xaxis_title=\"Features\", yaxis_title=\"Saliency\"):\n",
    "    print(title)\n",
    "    for i in range(len(feature_names)):\n",
    "        print(feature_names[i], \": \", '%.3f'%(importances[i]))\n",
    "    x_pos = (np.arange(len(feature_names)))\n",
    "    if plot:\n",
    "        plt.figure(figsize=(12,6))\n",
    "        \n",
    "        width = 0.5 \n",
    "        plt.bar(x_pos, importances, label='importance', align='center', zorder=2)\n",
    "    \n",
    "        plt.xticks(x_pos, feature_names, fontsize=24, rotation = 60)\n",
    "        plt.yticks(fontsize=24)\n",
    "        plt.xlabel(xaxis_title, fontsize = 24)\n",
    "        plt.ylabel(yaxis_title, fontsize = 24)\n",
    "        plt.title(title, fontsize=22)     \n",
    "        plt.grid(zorder=0)\n",
    "        plt.savefig(output_path + \"feat_importance.eps\", bbox_inches='tight')"
   ]
  },
  {
   "cell_type": "code",
   "execution_count": null,
   "metadata": {},
   "outputs": [],
   "source": [
    "if nn_type == \"vanilla\":\n",
    "\n",
    "    feature_names = []\n",
    "    for i in range(1, attr.shape[1] + 1):\n",
    "        feature_names = feature_names + [f'{i}'] \n",
    "\n",
    "else: # features NN\n",
    "\n",
    "    feature_names = [\"min\", \"max\", \"L1 norm\", \"2nd m.\", \"3rd m.\"]\n",
    "    for i in range(4, num_moments+1):\n",
    "        feature_names = feature_names + [f'{i}th m.']\n",
    "    feature_names = feature_names + [\"length\"] \n",
    "    \n",
    "#feature_names"
   ]
  },
  {
   "cell_type": "code",
   "execution_count": null,
   "metadata": {},
   "outputs": [],
   "source": [
    "visualize_importances(feature_names, np.mean(attr, axis=0), title=plot_title)"
   ]
  },
  {
   "cell_type": "code",
   "execution_count": null,
   "metadata": {},
   "outputs": [],
   "source": []
  },
  {
   "cell_type": "code",
   "execution_count": null,
   "metadata": {},
   "outputs": [],
   "source": []
  },
  {
   "cell_type": "markdown",
   "metadata": {},
   "source": [
    "#### Proximal operator and Objective Function Errors \n",
    "\n",
    "Filtered to testing set at end "
   ]
  },
  {
   "cell_type": "code",
   "execution_count": null,
   "metadata": {
    "tags": []
   },
   "outputs": [],
   "source": [
    "inf_data = dataset.features\n",
    "inf_labels = dataset.labels"
   ]
  },
  {
   "cell_type": "code",
   "execution_count": null,
   "metadata": {},
   "outputs": [],
   "source": [
    "# nn inference to get predicted tau_hat\n",
    "\n",
    "model.eval()\n",
    "\n",
    "with torch.no_grad():\n",
    "    pred_tau_hat = model(inf_data)\n"
   ]
  },
  {
   "cell_type": "code",
   "execution_count": null,
   "metadata": {},
   "outputs": [],
   "source": [
    "# nn output\n",
    "pred_tau_hat = pred_tau_hat.squeeze().numpy()\n",
    "pred_tau_hat"
   ]
  },
  {
   "cell_type": "code",
   "execution_count": null,
   "metadata": {},
   "outputs": [],
   "source": [
    "# transform nn output to original tau: \n",
    "\n",
    "if nn_type == \"vanilla\":\n",
    "    # tau = alpha(tau_hat)\n",
    "    pred_tau = np.multiply(alphas, pred_tau_hat)\n",
    "    \n",
    "else: # features\n",
    "    # tau = alpha(tau_hat + mu)\n",
    "    pred_tau = np.add(pred_tau_hat, mus)    \n",
    "    pred_tau = np.multiply(alphas, pred_tau)"
   ]
  },
  {
   "cell_type": "code",
   "execution_count": null,
   "metadata": {},
   "outputs": [],
   "source": [
    "pred_tau"
   ]
  },
  {
   "cell_type": "code",
   "execution_count": null,
   "metadata": {},
   "outputs": [],
   "source": []
  },
  {
   "cell_type": "code",
   "execution_count": null,
   "metadata": {},
   "outputs": [],
   "source": [
    "# compute proximal operator with known tau\n",
    "\n",
    "def prox_op_tau(x, tau):\n",
    "    \n",
    "    # compute proximal operator\n",
    "    prox = x.copy()\n",
    "    idx = (np.abs(x) > tau)\n",
    "    prox[idx] = np.sign(x[idx])*tau\n",
    "            \n",
    "    return prox"
   ]
  },
  {
   "cell_type": "code",
   "execution_count": null,
   "metadata": {
    "tags": []
   },
   "outputs": [],
   "source": [
    "X = X[~zero_idx,:]\n",
    "lengths = lengths[~zero_idx]"
   ]
  },
  {
   "cell_type": "code",
   "execution_count": null,
   "metadata": {},
   "outputs": [],
   "source": [
    "# compute prox operators and calculate 1) prox op error, 2) objective function error\n",
    "\n",
    "m = len(taus)\n",
    "\n",
    "prox_err = np.zeros(m)\n",
    "prox_relerr = np.zeros(m)\n",
    "obj_fcn_err = np.zeros(m)\n",
    "obj_fcn_relerr = np.zeros(m)\n",
    "\n",
    "for i in range(m):\n",
    "    \n",
    "    raw_vec = X[i,0:lengths[i]]\n",
    "    \n",
    "    p = prox_op_tau(raw_vec, taus[i])\n",
    "    pred_p = prox_op_tau(raw_vec, pred_tau[i])\n",
    "    prox_err[i] = np.linalg.norm(pred_p - p)  # 2-norm by default\n",
    "    prox_relerr[i] = np.linalg.norm(pred_p - p)/np.linalg.norm(p) \n",
    "    \n",
    "    obj = (1/2)*np.linalg.norm(raw_vec-p)**2 + alphas[i]*np.linalg.norm(p, np.inf)\n",
    "    pred_obj = (1/2)*np.linalg.norm(raw_vec-pred_p)**2 + alphas[i]*np.linalg.norm(pred_p, np.inf)\n",
    "    obj_fcn_err[i] = pred_obj - obj\n",
    "    obj_fcn_relerr[i] = (pred_obj - obj)/obj\n",
    "    "
   ]
  },
  {
   "cell_type": "code",
   "execution_count": null,
   "metadata": {},
   "outputs": [],
   "source": [
    "prox_err"
   ]
  },
  {
   "cell_type": "code",
   "execution_count": null,
   "metadata": {},
   "outputs": [],
   "source": [
    "prox_relerr"
   ]
  },
  {
   "cell_type": "code",
   "execution_count": null,
   "metadata": {},
   "outputs": [],
   "source": [
    "obj_fcn_err"
   ]
  },
  {
   "cell_type": "code",
   "execution_count": null,
   "metadata": {},
   "outputs": [],
   "source": [
    "obj_fcn_relerr"
   ]
  },
  {
   "cell_type": "code",
   "execution_count": null,
   "metadata": {},
   "outputs": [],
   "source": []
  },
  {
   "cell_type": "code",
   "execution_count": null,
   "metadata": {
    "tags": []
   },
   "outputs": [],
   "source": [
    "print(np.median(prox_relerr[test_idx]))\n",
    "print(np.mean(prox_relerr[test_idx]))\n",
    "print(np.std(prox_relerr[test_idx]))"
   ]
  },
  {
   "cell_type": "code",
   "execution_count": null,
   "metadata": {},
   "outputs": [],
   "source": []
  },
  {
   "cell_type": "code",
   "execution_count": null,
   "metadata": {},
   "outputs": [],
   "source": [
    "print(np.median(obj_fcn_relerr[test_idx]))\n",
    "print(np.mean(obj_fcn_relerr[test_idx]))\n",
    "print(np.std(obj_fcn_relerr[test_idx]))"
   ]
  },
  {
   "cell_type": "code",
   "execution_count": null,
   "metadata": {
    "tags": []
   },
   "outputs": [],
   "source": [
    " "
   ]
  },
  {
   "cell_type": "code",
   "execution_count": null,
   "metadata": {},
   "outputs": [],
   "source": []
  }
 ],
 "metadata": {
  "kernelspec": {
   "display_name": "PyTorch 1.12.0",
   "language": "python",
   "name": "pytorch-1.12.0"
  },
  "language_info": {
   "codemirror_mode": {
    "name": "ipython",
    "version": 3
   },
   "file_extension": ".py",
   "mimetype": "text/x-python",
   "name": "python",
   "nbconvert_exporter": "python",
   "pygments_lexer": "ipython3",
   "version": "3.9.13"
  }
 },
 "nbformat": 4,
 "nbformat_minor": 4
}
